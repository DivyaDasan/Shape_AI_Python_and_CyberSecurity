{
  "nbformat": 4,
  "nbformat_minor": 0,
  "metadata": {
    "colab": {
      "name": "Weather.ipynb",
      "provenance": [],
      "collapsed_sections": []
    },
    "kernelspec": {
      "name": "python3",
      "display_name": "Python 3"
    },
    "language_info": {
      "name": "python"
    }
  },
  "cells": [
    {
      "cell_type": "markdown",
      "metadata": {
        "id": "RKzxoITDgpTn"
      },
      "source": [
        "## **`Project`**\n",
        "Fetching Weather information with 3rd party API using Python. And also record this informatioin in to a text file"
      ]
    },
    {
      "cell_type": "code",
      "metadata": {
        "colab": {
          "base_uri": "https://localhost:8080/"
        },
        "id": "e6wfBoRyggco",
        "outputId": "b68757d2-8046-430d-f014-65fc78c388fe"
      },
      "source": [
        "import requests\n",
        "from datetime import datetime\n",
        "import json\n",
        "api_keys = \"f3c0616643e1af4b8b815c0ce4b011f6\"\n",
        "location = input(\"Enter the city name : \")\n",
        "\n",
        "complete_api_link = \"https://api.openweathermap.org/data/2.5/weather?q=\"+location+\"&appid=\"+api_keys\n",
        "api_link = requests.get(complete_api_link)\n",
        "api_data = api_link.json()\n",
        "#print(complete_api_link)\n",
        "#print(api_link)\n",
        "#print(api_data)\n",
        "\n",
        "#create variable to store and display data\n",
        "temp_city = ((api_data['main']['temp']) - 273.15)\n",
        "weather_desc = api_data['weather'][0]['description']\n",
        "humid = api_data['main']['humidity']\n",
        "wind_speed = api_data['wind']['speed']\n",
        "date_time = datetime.now().strftime(\"%d-%b-%Y | %I:%M:%S %p\")\n",
        "\n",
        "print(\"___________________________________________________________\")\n",
        "print(\"Weather Stats for - {} || {}\".format(location.upper(), date_time))\n",
        "print(\"___________________________________________________________\")\n",
        "print(\"Current Temperature is : {:.2f} deg C\".format(temp_city))\n",
        "print(\"Current weather desc : \",weather_desc)\n",
        "print(\"Current Humidity : \",humid,'%')\n",
        "print(\"Current Wind speed : \",wind_speed,\"hmph\")\n",
        "import json \n",
        "    \n",
        "# python object(dictionary) to be dumped \n",
        "weather ={ \n",
        "    \"Weather Stats for - {} || {}\".format(location.upper(), date_time): { \n",
        "        \"Temperature\": \"{:.2f} deg C\".format(temp_city), \n",
        "        \"Weather Desc\": str(weather_desc), \n",
        "        \"Humidity\": str(humid)+'%',\n",
        "        \"Wind speed\": str(wind_speed)+\"hmph\"\n",
        "    }\n",
        "} \n",
        "    \n",
        "# the json file where the output must be stored \n",
        "out_file = open(\"file_weather.json\", \"w\") \n",
        "    \n",
        "json.dump(weather, out_file, indent = 6) \n",
        "    \n",
        "out_file.close()\n",
        "\n",
        "\n",
        "\n"
      ],
      "execution_count": 4,
      "outputs": [
        {
          "output_type": "stream",
          "text": [
            "Enter the city name : ernakulam\n",
            "___________________________________________________________\n",
            "Weather Stats for - ERNAKULAM || 23-Jun-2021 | 07:15:14 AM\n",
            "___________________________________________________________\n",
            "Current Temperature is : 30.99 deg C\n",
            "Current weather desc :  overcast clouds\n",
            "Current Humidity :  77 %\n",
            "Current Wind speed :  3.61 hmph\n"
          ],
          "name": "stdout"
        }
      ]
    },
    {
      "cell_type": "markdown",
      "metadata": {
        "id": "OpLwkV4dgn5F"
      },
      "source": [
        ""
      ]
    }
  ]
}